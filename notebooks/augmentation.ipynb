{
 "cells": [
  {
   "cell_type": "markdown",
   "id": "41e31780-edb4-44c5-a565-42f61555956a",
   "metadata": {},
   "source": [
    "After performing the Principal Component Analysis, we can move into actually generating the data."
   ]
  },
  {
   "cell_type": "code",
   "execution_count": 36,
   "id": "b99e527a-8c6c-4fd1-9a0e-214c651f1d02",
   "metadata": {},
   "outputs": [],
   "source": [
    "import numpy as np\n",
    "\n",
    "from sklearn import decomposition\n",
    "\n",
    "# Generates data using the Principal Component Analysis result\n",
    "def generate_data(pca, x, start):\n",
    "    original = pca.components_.copy()\n",
    "    ncomp = pca.components_.shape[0]\n",
    "    a = pca.transform(x)\n",
    "\n",
    "    for i in range(start, ncomp):\n",
    "        pca.components_[i,:] += np.random.normal(scale=0.1, size=ncomp)\n",
    "\n",
    "    b = pca.inverse_transform(a)\n",
    "    pca.components_ = original.copy()\n",
    "\n",
    "    return b"
   ]
  },
  {
   "cell_type": "markdown",
   "id": "ac66c0c4-5f92-4a06-b54c-06bab71dd420",
   "metadata": {},
   "source": [
    "Introduce previously analysed Features and Labels NumPy arrays, then split the arrays to use the first `120` records for training and the\n",
    "remaining records for testing."
   ]
  },
  {
   "cell_type": "code",
   "execution_count": 37,
   "id": "04b7305d-7eb7-4d85-a5cd-36633e1d758c",
   "metadata": {},
   "outputs": [],
   "source": [
    "feats = np.load(\"./features.npy\")\n",
    "label = np.load(\"./labels.npy\")\n",
    "\n",
    "TRAIN_RECORDS = 120\n",
    "\n",
    "feats_train = feats[:TRAIN_RECORDS]\n",
    "label_train = label[:TRAIN_RECORDS]\n",
    "\n",
    "feats_test = feats[TRAIN_RECORDS:]\n",
    "label_test = label[TRAIN_RECORDS:]"
   ]
  },
  {
   "cell_type": "markdown",
   "id": "90eccb85-0876-4d7b-b4cf-d0cfe8e77764",
   "metadata": {},
   "source": [
    "With the array of records in to train in place, Principal Component Analysis from Sklearn is used to perform such calculation.\n",
    "The number of components to keep is set to 4 due to the fact that this dataset has 4 different features being sepal length, sepal width, petal length and petal width.\n",
    "\n",
    "Using `shape` from `ndarray` the dimensions and lengths of the `ndarray` are retrieved, given that the features array has a shape of `(120, 4)` we are using a 2 dimension array, where the first dimension holds the rows (every sample) and the 2nd dimension holds the 4\n",
    "features compounding the features."
   ]
  },
  {
   "cell_type": "code",
   "execution_count": 38,
   "id": "3cd43889-7cc4-4f76-9979-d0cc4668e946",
   "metadata": {},
   "outputs": [],
   "source": [
    "FEATURES = feats_train.shape[1]"
   ]
  },
  {
   "cell_type": "markdown",
   "id": "548763c0-535b-45cb-81e2-d1732458e55f",
   "metadata": {},
   "source": [
    "Using the number of features that compounds every sample, we can use PCA algorithm to find the variance ratio from each feature.\n",
    "First a PCA instance must be created:"
   ]
  },
  {
   "cell_type": "code",
   "execution_count": 39,
   "id": "56d26400-3143-4a42-8ee7-e466a56b0f02",
   "metadata": {},
   "outputs": [],
   "source": [
    "pca = decomposition.PCA(n_components=FEATURES)"
   ]
  },
  {
   "cell_type": "markdown",
   "id": "5a3e1311-824b-4143-be65-1bb22df97015",
   "metadata": {},
   "source": [
    "Then the `feats` (features `ndarray` of shape `(120, 4)`) is used to fill the PCA instance"
   ]
  },
  {
   "cell_type": "code",
   "execution_count": 40,
   "id": "26ae6e94-27a1-4343-ab47-172555fdf450",
   "metadata": {},
   "outputs": [
    {
     "data": {
      "text/html": [
       "<style>#sk-container-id-2 {color: black;}#sk-container-id-2 pre{padding: 0;}#sk-container-id-2 div.sk-toggleable {background-color: white;}#sk-container-id-2 label.sk-toggleable__label {cursor: pointer;display: block;width: 100%;margin-bottom: 0;padding: 0.3em;box-sizing: border-box;text-align: center;}#sk-container-id-2 label.sk-toggleable__label-arrow:before {content: \"▸\";float: left;margin-right: 0.25em;color: #696969;}#sk-container-id-2 label.sk-toggleable__label-arrow:hover:before {color: black;}#sk-container-id-2 div.sk-estimator:hover label.sk-toggleable__label-arrow:before {color: black;}#sk-container-id-2 div.sk-toggleable__content {max-height: 0;max-width: 0;overflow: hidden;text-align: left;background-color: #f0f8ff;}#sk-container-id-2 div.sk-toggleable__content pre {margin: 0.2em;color: black;border-radius: 0.25em;background-color: #f0f8ff;}#sk-container-id-2 input.sk-toggleable__control:checked~div.sk-toggleable__content {max-height: 200px;max-width: 100%;overflow: auto;}#sk-container-id-2 input.sk-toggleable__control:checked~label.sk-toggleable__label-arrow:before {content: \"▾\";}#sk-container-id-2 div.sk-estimator input.sk-toggleable__control:checked~label.sk-toggleable__label {background-color: #d4ebff;}#sk-container-id-2 div.sk-label input.sk-toggleable__control:checked~label.sk-toggleable__label {background-color: #d4ebff;}#sk-container-id-2 input.sk-hidden--visually {border: 0;clip: rect(1px 1px 1px 1px);clip: rect(1px, 1px, 1px, 1px);height: 1px;margin: -1px;overflow: hidden;padding: 0;position: absolute;width: 1px;}#sk-container-id-2 div.sk-estimator {font-family: monospace;background-color: #f0f8ff;border: 1px dotted black;border-radius: 0.25em;box-sizing: border-box;margin-bottom: 0.5em;}#sk-container-id-2 div.sk-estimator:hover {background-color: #d4ebff;}#sk-container-id-2 div.sk-parallel-item::after {content: \"\";width: 100%;border-bottom: 1px solid gray;flex-grow: 1;}#sk-container-id-2 div.sk-label:hover label.sk-toggleable__label {background-color: #d4ebff;}#sk-container-id-2 div.sk-serial::before {content: \"\";position: absolute;border-left: 1px solid gray;box-sizing: border-box;top: 0;bottom: 0;left: 50%;z-index: 0;}#sk-container-id-2 div.sk-serial {display: flex;flex-direction: column;align-items: center;background-color: white;padding-right: 0.2em;padding-left: 0.2em;position: relative;}#sk-container-id-2 div.sk-item {position: relative;z-index: 1;}#sk-container-id-2 div.sk-parallel {display: flex;align-items: stretch;justify-content: center;background-color: white;position: relative;}#sk-container-id-2 div.sk-item::before, #sk-container-id-2 div.sk-parallel-item::before {content: \"\";position: absolute;border-left: 1px solid gray;box-sizing: border-box;top: 0;bottom: 0;left: 50%;z-index: -1;}#sk-container-id-2 div.sk-parallel-item {display: flex;flex-direction: column;z-index: 1;position: relative;background-color: white;}#sk-container-id-2 div.sk-parallel-item:first-child::after {align-self: flex-end;width: 50%;}#sk-container-id-2 div.sk-parallel-item:last-child::after {align-self: flex-start;width: 50%;}#sk-container-id-2 div.sk-parallel-item:only-child::after {width: 0;}#sk-container-id-2 div.sk-dashed-wrapped {border: 1px dashed gray;margin: 0 0.4em 0.5em 0.4em;box-sizing: border-box;padding-bottom: 0.4em;background-color: white;}#sk-container-id-2 div.sk-label label {font-family: monospace;font-weight: bold;display: inline-block;line-height: 1.2em;}#sk-container-id-2 div.sk-label-container {text-align: center;}#sk-container-id-2 div.sk-container {/* jupyter's `normalize.less` sets `[hidden] { display: none; }` but bootstrap.min.css set `[hidden] { display: none !important; }` so we also need the `!important` here to be able to override the default hidden behavior on the sphinx rendered scikit-learn.org. See: https://github.com/scikit-learn/scikit-learn/issues/21755 */display: inline-block !important;position: relative;}#sk-container-id-2 div.sk-text-repr-fallback {display: none;}</style><div id=\"sk-container-id-2\" class=\"sk-top-container\"><div class=\"sk-text-repr-fallback\"><pre>PCA(n_components=4)</pre><b>In a Jupyter environment, please rerun this cell to show the HTML representation or trust the notebook. <br />On GitHub, the HTML representation is unable to render, please try loading this page with nbviewer.org.</b></div><div class=\"sk-container\" hidden><div class=\"sk-item\"><div class=\"sk-estimator sk-toggleable\"><input class=\"sk-toggleable__control sk-hidden--visually\" id=\"sk-estimator-id-2\" type=\"checkbox\" checked><label for=\"sk-estimator-id-2\" class=\"sk-toggleable__label sk-toggleable__label-arrow\">PCA</label><div class=\"sk-toggleable__content\"><pre>PCA(n_components=4)</pre></div></div></div></div></div>"
      ],
      "text/plain": [
       "PCA(n_components=4)"
      ]
     },
     "execution_count": 40,
     "metadata": {},
     "output_type": "execute_result"
    }
   ],
   "source": [
    "pca.fit(feats)"
   ]
  },
  {
   "cell_type": "markdown",
   "id": "68b51358-cef1-4f52-be0a-f40ef3c22d16",
   "metadata": {},
   "source": [
    "Finally the variance ratio can be inspected for each component"
   ]
  },
  {
   "cell_type": "code",
   "execution_count": 41,
   "id": "caf7de50-1691-4430-85e6-ab869d6254c9",
   "metadata": {},
   "outputs": [
    {
     "name": "stdout",
     "output_type": "stream",
     "text": [
      "[0.92395437 0.05343362 0.01737228 0.00523974]\n"
     ]
    }
   ],
   "source": [
    "VARIANCE_RATIO = pca.explained_variance_ratio_\n",
    "print(VARIANCE_RATIO)"
   ]
  },
  {
   "cell_type": "markdown",
   "id": "f9d2e9f0-3c97-4749-a8e6-23e120cfbc64",
   "metadata": {},
   "source": [
    "Each of these elements represents the variance in the set of values for each feature.\n",
    "\n",
    "1. sepal length\n",
    "2. sepal width\n",
    "3. petal length\n",
    "4. petal width"
   ]
  },
  {
   "cell_type": "code",
   "execution_count": 42,
   "id": "e5880b9d-a30f-488d-9026-b4ffc536b800",
   "metadata": {},
   "outputs": [
    {
     "name": "stdout",
     "output_type": "stream",
     "text": [
      "Sepal Variance: 0.9239543681440451 + 0.053433619322753645 = 0.9773879874667988\n",
      "Petal Variance: 0.017372275759703716 + 0.005239736773497558 = 0.022612012533201276\n",
      "Sum: 1.0\n"
     ]
    }
   ],
   "source": [
    "print(f\"Sepal Variance: {VARIANCE_RATIO[0]} + {VARIANCE_RATIO[1]} = {VARIANCE_RATIO[0] + VARIANCE_RATIO[1]}\")\n",
    "print(f\"Petal Variance: {VARIANCE_RATIO[2]} + {VARIANCE_RATIO[3]} = {VARIANCE_RATIO[2] + VARIANCE_RATIO[3]}\")\n",
    "print(f\"Sum: {VARIANCE_RATIO[0] + VARIANCE_RATIO[1] + VARIANCE_RATIO[2] + VARIANCE_RATIO[3]}\")"
   ]
  },
  {
   "cell_type": "markdown",
   "id": "a766defc-e8a2-474f-85bb-4a9399ff504e",
   "metadata": {},
   "source": [
    "> sklearn library provides an example in this dataset using PCA. https://scikit-learn.org/stable/auto_examples/decomposition/plot_pca_iris.html"
   ]
  },
  {
   "cell_type": "code",
   "execution_count": 43,
   "id": "9e63dfaa-3e16-4098-b7dd-e2807886f18e",
   "metadata": {},
   "outputs": [],
   "source": [
    "# ≅%97.73 of variance is represented by Sepal features.\n",
    "START = 2\n",
    "nsets = 10\n",
    "nsamp = feats_train.shape[0]\n",
    "new_feats = np.zeros((nsets*nsamp, feats_train.shape[1]))\n",
    "new_label = np.zeros(nsets*nsamp, dtype=\"uint8\")\n",
    "\n",
    "for i in range(nsets):\n",
    "    if (i == 0):\n",
    "        new_feats[0:nsamp,:] = feats_train\n",
    "        new_label[0:nsamp] = label_train\n",
    "    else:\n",
    "        new_feats[(i*nsamp):(i*nsamp+nsamp),:] = generate_data(pca, feats_train, START)\n",
    "        new_label[(i*nsamp):(i*nsamp+nsamp)] = label_train\n",
    "\n",
    "idx = np.argsort(np.random.random(nsets*nsamp))\n",
    "new_feats = new_feats[idx]\n",
    "new_label = new_label[idx]"
   ]
  }
 ],
 "metadata": {
  "kernelspec": {
   "display_name": "Python 3 (ipykernel)",
   "language": "python",
   "name": "python3"
  },
  "language_info": {
   "codemirror_mode": {
    "name": "ipython",
    "version": 3
   },
   "file_extension": ".py",
   "mimetype": "text/x-python",
   "name": "python",
   "nbconvert_exporter": "python",
   "pygments_lexer": "ipython3",
   "version": "3.9.17"
  }
 },
 "nbformat": 4,
 "nbformat_minor": 5
}
